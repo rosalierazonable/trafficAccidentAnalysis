{
 "cells": [
  {
   "cell_type": "markdown",
   "id": "e79a72f1",
   "metadata": {},
   "source": [
    "# US - Accidents (2016 - 2021) Basic Data Exploration\n",
    "<br>\n",
    "<hr>"
   ]
  },
  {
   "cell_type": "code",
   "execution_count": 3,
   "id": "d7e33528",
   "metadata": {},
   "outputs": [],
   "source": [
    "import pandas as pd\n",
    "from matplotlib import pyplot as plt"
   ]
  },
  {
   "cell_type": "markdown",
   "id": "46b55298",
   "metadata": {},
   "source": [
    "## Loading Dataset to a dataframe variable"
   ]
  },
  {
   "cell_type": "code",
   "execution_count": 10,
   "id": "12ea91c6",
   "metadata": {
    "scrolled": true
   },
   "outputs": [
    {
     "ename": "FileNotFoundError",
     "evalue": "[Errno 2] No such file or directory: '/dataset/US_Accidents_Dec21_updated.csv'",
     "output_type": "error",
     "traceback": [
      "\u001b[0;31m---------------------------------------------------------------------------\u001b[0m",
      "\u001b[0;31mFileNotFoundError\u001b[0m                         Traceback (most recent call last)",
      "\u001b[1;32m/Users/rosalierazonable/Documents/SpecialProject/trafficAccidentAnalysis/notebooks/.ipynb_checkpoints/Data Exploration-checkpoint.ipynb Cell 4'\u001b[0m in \u001b[0;36m<cell line: 1>\u001b[0;34m()\u001b[0m\n\u001b[0;32m----> <a href='vscode-notebook-cell:/Users/rosalierazonable/Documents/SpecialProject/trafficAccidentAnalysis/notebooks/.ipynb_checkpoints/Data%20Exploration-checkpoint.ipynb#ch0000003?line=0'>1</a>\u001b[0m us_data \u001b[39m=\u001b[39m pd\u001b[39m.\u001b[39;49mread_csv(\u001b[39m\"\u001b[39;49m\u001b[39m/dataset/US_Accidents_Dec21_updated.csv\u001b[39;49m\u001b[39m\"\u001b[39;49m)\n\u001b[1;32m      <a href='vscode-notebook-cell:/Users/rosalierazonable/Documents/SpecialProject/trafficAccidentAnalysis/notebooks/.ipynb_checkpoints/Data%20Exploration-checkpoint.ipynb#ch0000003?line=1'>2</a>\u001b[0m us_data\n",
      "File \u001b[0;32m~/opt/miniconda3/envs/trafficAccident-env/lib/python3.9/site-packages/pandas/util/_decorators.py:311\u001b[0m, in \u001b[0;36mdeprecate_nonkeyword_arguments.<locals>.decorate.<locals>.wrapper\u001b[0;34m(*args, **kwargs)\u001b[0m\n\u001b[1;32m    <a href='file:///Users/rosalierazonable/opt/miniconda3/envs/trafficAccident-env/lib/python3.9/site-packages/pandas/util/_decorators.py?line=304'>305</a>\u001b[0m \u001b[39mif\u001b[39;00m \u001b[39mlen\u001b[39m(args) \u001b[39m>\u001b[39m num_allow_args:\n\u001b[1;32m    <a href='file:///Users/rosalierazonable/opt/miniconda3/envs/trafficAccident-env/lib/python3.9/site-packages/pandas/util/_decorators.py?line=305'>306</a>\u001b[0m     warnings\u001b[39m.\u001b[39mwarn(\n\u001b[1;32m    <a href='file:///Users/rosalierazonable/opt/miniconda3/envs/trafficAccident-env/lib/python3.9/site-packages/pandas/util/_decorators.py?line=306'>307</a>\u001b[0m         msg\u001b[39m.\u001b[39mformat(arguments\u001b[39m=\u001b[39marguments),\n\u001b[1;32m    <a href='file:///Users/rosalierazonable/opt/miniconda3/envs/trafficAccident-env/lib/python3.9/site-packages/pandas/util/_decorators.py?line=307'>308</a>\u001b[0m         \u001b[39mFutureWarning\u001b[39;00m,\n\u001b[1;32m    <a href='file:///Users/rosalierazonable/opt/miniconda3/envs/trafficAccident-env/lib/python3.9/site-packages/pandas/util/_decorators.py?line=308'>309</a>\u001b[0m         stacklevel\u001b[39m=\u001b[39mstacklevel,\n\u001b[1;32m    <a href='file:///Users/rosalierazonable/opt/miniconda3/envs/trafficAccident-env/lib/python3.9/site-packages/pandas/util/_decorators.py?line=309'>310</a>\u001b[0m     )\n\u001b[0;32m--> <a href='file:///Users/rosalierazonable/opt/miniconda3/envs/trafficAccident-env/lib/python3.9/site-packages/pandas/util/_decorators.py?line=310'>311</a>\u001b[0m \u001b[39mreturn\u001b[39;00m func(\u001b[39m*\u001b[39;49margs, \u001b[39m*\u001b[39;49m\u001b[39m*\u001b[39;49mkwargs)\n",
      "File \u001b[0;32m~/opt/miniconda3/envs/trafficAccident-env/lib/python3.9/site-packages/pandas/io/parsers/readers.py:680\u001b[0m, in \u001b[0;36mread_csv\u001b[0;34m(filepath_or_buffer, sep, delimiter, header, names, index_col, usecols, squeeze, prefix, mangle_dupe_cols, dtype, engine, converters, true_values, false_values, skipinitialspace, skiprows, skipfooter, nrows, na_values, keep_default_na, na_filter, verbose, skip_blank_lines, parse_dates, infer_datetime_format, keep_date_col, date_parser, dayfirst, cache_dates, iterator, chunksize, compression, thousands, decimal, lineterminator, quotechar, quoting, doublequote, escapechar, comment, encoding, encoding_errors, dialect, error_bad_lines, warn_bad_lines, on_bad_lines, delim_whitespace, low_memory, memory_map, float_precision, storage_options)\u001b[0m\n\u001b[1;32m    <a href='file:///Users/rosalierazonable/opt/miniconda3/envs/trafficAccident-env/lib/python3.9/site-packages/pandas/io/parsers/readers.py?line=664'>665</a>\u001b[0m kwds_defaults \u001b[39m=\u001b[39m _refine_defaults_read(\n\u001b[1;32m    <a href='file:///Users/rosalierazonable/opt/miniconda3/envs/trafficAccident-env/lib/python3.9/site-packages/pandas/io/parsers/readers.py?line=665'>666</a>\u001b[0m     dialect,\n\u001b[1;32m    <a href='file:///Users/rosalierazonable/opt/miniconda3/envs/trafficAccident-env/lib/python3.9/site-packages/pandas/io/parsers/readers.py?line=666'>667</a>\u001b[0m     delimiter,\n\u001b[0;32m   (...)\u001b[0m\n\u001b[1;32m    <a href='file:///Users/rosalierazonable/opt/miniconda3/envs/trafficAccident-env/lib/python3.9/site-packages/pandas/io/parsers/readers.py?line=675'>676</a>\u001b[0m     defaults\u001b[39m=\u001b[39m{\u001b[39m\"\u001b[39m\u001b[39mdelimiter\u001b[39m\u001b[39m\"\u001b[39m: \u001b[39m\"\u001b[39m\u001b[39m,\u001b[39m\u001b[39m\"\u001b[39m},\n\u001b[1;32m    <a href='file:///Users/rosalierazonable/opt/miniconda3/envs/trafficAccident-env/lib/python3.9/site-packages/pandas/io/parsers/readers.py?line=676'>677</a>\u001b[0m )\n\u001b[1;32m    <a href='file:///Users/rosalierazonable/opt/miniconda3/envs/trafficAccident-env/lib/python3.9/site-packages/pandas/io/parsers/readers.py?line=677'>678</a>\u001b[0m kwds\u001b[39m.\u001b[39mupdate(kwds_defaults)\n\u001b[0;32m--> <a href='file:///Users/rosalierazonable/opt/miniconda3/envs/trafficAccident-env/lib/python3.9/site-packages/pandas/io/parsers/readers.py?line=679'>680</a>\u001b[0m \u001b[39mreturn\u001b[39;00m _read(filepath_or_buffer, kwds)\n",
      "File \u001b[0;32m~/opt/miniconda3/envs/trafficAccident-env/lib/python3.9/site-packages/pandas/io/parsers/readers.py:575\u001b[0m, in \u001b[0;36m_read\u001b[0;34m(filepath_or_buffer, kwds)\u001b[0m\n\u001b[1;32m    <a href='file:///Users/rosalierazonable/opt/miniconda3/envs/trafficAccident-env/lib/python3.9/site-packages/pandas/io/parsers/readers.py?line=571'>572</a>\u001b[0m _validate_names(kwds\u001b[39m.\u001b[39mget(\u001b[39m\"\u001b[39m\u001b[39mnames\u001b[39m\u001b[39m\"\u001b[39m, \u001b[39mNone\u001b[39;00m))\n\u001b[1;32m    <a href='file:///Users/rosalierazonable/opt/miniconda3/envs/trafficAccident-env/lib/python3.9/site-packages/pandas/io/parsers/readers.py?line=573'>574</a>\u001b[0m \u001b[39m# Create the parser.\u001b[39;00m\n\u001b[0;32m--> <a href='file:///Users/rosalierazonable/opt/miniconda3/envs/trafficAccident-env/lib/python3.9/site-packages/pandas/io/parsers/readers.py?line=574'>575</a>\u001b[0m parser \u001b[39m=\u001b[39m TextFileReader(filepath_or_buffer, \u001b[39m*\u001b[39;49m\u001b[39m*\u001b[39;49mkwds)\n\u001b[1;32m    <a href='file:///Users/rosalierazonable/opt/miniconda3/envs/trafficAccident-env/lib/python3.9/site-packages/pandas/io/parsers/readers.py?line=576'>577</a>\u001b[0m \u001b[39mif\u001b[39;00m chunksize \u001b[39mor\u001b[39;00m iterator:\n\u001b[1;32m    <a href='file:///Users/rosalierazonable/opt/miniconda3/envs/trafficAccident-env/lib/python3.9/site-packages/pandas/io/parsers/readers.py?line=577'>578</a>\u001b[0m     \u001b[39mreturn\u001b[39;00m parser\n",
      "File \u001b[0;32m~/opt/miniconda3/envs/trafficAccident-env/lib/python3.9/site-packages/pandas/io/parsers/readers.py:933\u001b[0m, in \u001b[0;36mTextFileReader.__init__\u001b[0;34m(self, f, engine, **kwds)\u001b[0m\n\u001b[1;32m    <a href='file:///Users/rosalierazonable/opt/miniconda3/envs/trafficAccident-env/lib/python3.9/site-packages/pandas/io/parsers/readers.py?line=929'>930</a>\u001b[0m     \u001b[39mself\u001b[39m\u001b[39m.\u001b[39moptions[\u001b[39m\"\u001b[39m\u001b[39mhas_index_names\u001b[39m\u001b[39m\"\u001b[39m] \u001b[39m=\u001b[39m kwds[\u001b[39m\"\u001b[39m\u001b[39mhas_index_names\u001b[39m\u001b[39m\"\u001b[39m]\n\u001b[1;32m    <a href='file:///Users/rosalierazonable/opt/miniconda3/envs/trafficAccident-env/lib/python3.9/site-packages/pandas/io/parsers/readers.py?line=931'>932</a>\u001b[0m \u001b[39mself\u001b[39m\u001b[39m.\u001b[39mhandles: IOHandles \u001b[39m|\u001b[39m \u001b[39mNone\u001b[39;00m \u001b[39m=\u001b[39m \u001b[39mNone\u001b[39;00m\n\u001b[0;32m--> <a href='file:///Users/rosalierazonable/opt/miniconda3/envs/trafficAccident-env/lib/python3.9/site-packages/pandas/io/parsers/readers.py?line=932'>933</a>\u001b[0m \u001b[39mself\u001b[39m\u001b[39m.\u001b[39m_engine \u001b[39m=\u001b[39m \u001b[39mself\u001b[39;49m\u001b[39m.\u001b[39;49m_make_engine(f, \u001b[39mself\u001b[39;49m\u001b[39m.\u001b[39;49mengine)\n",
      "File \u001b[0;32m~/opt/miniconda3/envs/trafficAccident-env/lib/python3.9/site-packages/pandas/io/parsers/readers.py:1217\u001b[0m, in \u001b[0;36mTextFileReader._make_engine\u001b[0;34m(self, f, engine)\u001b[0m\n\u001b[1;32m   <a href='file:///Users/rosalierazonable/opt/miniconda3/envs/trafficAccident-env/lib/python3.9/site-packages/pandas/io/parsers/readers.py?line=1212'>1213</a>\u001b[0m     mode \u001b[39m=\u001b[39m \u001b[39m\"\u001b[39m\u001b[39mrb\u001b[39m\u001b[39m\"\u001b[39m\n\u001b[1;32m   <a href='file:///Users/rosalierazonable/opt/miniconda3/envs/trafficAccident-env/lib/python3.9/site-packages/pandas/io/parsers/readers.py?line=1213'>1214</a>\u001b[0m \u001b[39m# error: No overload variant of \"get_handle\" matches argument types\u001b[39;00m\n\u001b[1;32m   <a href='file:///Users/rosalierazonable/opt/miniconda3/envs/trafficAccident-env/lib/python3.9/site-packages/pandas/io/parsers/readers.py?line=1214'>1215</a>\u001b[0m \u001b[39m# \"Union[str, PathLike[str], ReadCsvBuffer[bytes], ReadCsvBuffer[str]]\"\u001b[39;00m\n\u001b[1;32m   <a href='file:///Users/rosalierazonable/opt/miniconda3/envs/trafficAccident-env/lib/python3.9/site-packages/pandas/io/parsers/readers.py?line=1215'>1216</a>\u001b[0m \u001b[39m# , \"str\", \"bool\", \"Any\", \"Any\", \"Any\", \"Any\", \"Any\"\u001b[39;00m\n\u001b[0;32m-> <a href='file:///Users/rosalierazonable/opt/miniconda3/envs/trafficAccident-env/lib/python3.9/site-packages/pandas/io/parsers/readers.py?line=1216'>1217</a>\u001b[0m \u001b[39mself\u001b[39m\u001b[39m.\u001b[39mhandles \u001b[39m=\u001b[39m get_handle(  \u001b[39m# type: ignore[call-overload]\u001b[39;49;00m\n\u001b[1;32m   <a href='file:///Users/rosalierazonable/opt/miniconda3/envs/trafficAccident-env/lib/python3.9/site-packages/pandas/io/parsers/readers.py?line=1217'>1218</a>\u001b[0m     f,\n\u001b[1;32m   <a href='file:///Users/rosalierazonable/opt/miniconda3/envs/trafficAccident-env/lib/python3.9/site-packages/pandas/io/parsers/readers.py?line=1218'>1219</a>\u001b[0m     mode,\n\u001b[1;32m   <a href='file:///Users/rosalierazonable/opt/miniconda3/envs/trafficAccident-env/lib/python3.9/site-packages/pandas/io/parsers/readers.py?line=1219'>1220</a>\u001b[0m     encoding\u001b[39m=\u001b[39;49m\u001b[39mself\u001b[39;49m\u001b[39m.\u001b[39;49moptions\u001b[39m.\u001b[39;49mget(\u001b[39m\"\u001b[39;49m\u001b[39mencoding\u001b[39;49m\u001b[39m\"\u001b[39;49m, \u001b[39mNone\u001b[39;49;00m),\n\u001b[1;32m   <a href='file:///Users/rosalierazonable/opt/miniconda3/envs/trafficAccident-env/lib/python3.9/site-packages/pandas/io/parsers/readers.py?line=1220'>1221</a>\u001b[0m     compression\u001b[39m=\u001b[39;49m\u001b[39mself\u001b[39;49m\u001b[39m.\u001b[39;49moptions\u001b[39m.\u001b[39;49mget(\u001b[39m\"\u001b[39;49m\u001b[39mcompression\u001b[39;49m\u001b[39m\"\u001b[39;49m, \u001b[39mNone\u001b[39;49;00m),\n\u001b[1;32m   <a href='file:///Users/rosalierazonable/opt/miniconda3/envs/trafficAccident-env/lib/python3.9/site-packages/pandas/io/parsers/readers.py?line=1221'>1222</a>\u001b[0m     memory_map\u001b[39m=\u001b[39;49m\u001b[39mself\u001b[39;49m\u001b[39m.\u001b[39;49moptions\u001b[39m.\u001b[39;49mget(\u001b[39m\"\u001b[39;49m\u001b[39mmemory_map\u001b[39;49m\u001b[39m\"\u001b[39;49m, \u001b[39mFalse\u001b[39;49;00m),\n\u001b[1;32m   <a href='file:///Users/rosalierazonable/opt/miniconda3/envs/trafficAccident-env/lib/python3.9/site-packages/pandas/io/parsers/readers.py?line=1222'>1223</a>\u001b[0m     is_text\u001b[39m=\u001b[39;49mis_text,\n\u001b[1;32m   <a href='file:///Users/rosalierazonable/opt/miniconda3/envs/trafficAccident-env/lib/python3.9/site-packages/pandas/io/parsers/readers.py?line=1223'>1224</a>\u001b[0m     errors\u001b[39m=\u001b[39;49m\u001b[39mself\u001b[39;49m\u001b[39m.\u001b[39;49moptions\u001b[39m.\u001b[39;49mget(\u001b[39m\"\u001b[39;49m\u001b[39mencoding_errors\u001b[39;49m\u001b[39m\"\u001b[39;49m, \u001b[39m\"\u001b[39;49m\u001b[39mstrict\u001b[39;49m\u001b[39m\"\u001b[39;49m),\n\u001b[1;32m   <a href='file:///Users/rosalierazonable/opt/miniconda3/envs/trafficAccident-env/lib/python3.9/site-packages/pandas/io/parsers/readers.py?line=1224'>1225</a>\u001b[0m     storage_options\u001b[39m=\u001b[39;49m\u001b[39mself\u001b[39;49m\u001b[39m.\u001b[39;49moptions\u001b[39m.\u001b[39;49mget(\u001b[39m\"\u001b[39;49m\u001b[39mstorage_options\u001b[39;49m\u001b[39m\"\u001b[39;49m, \u001b[39mNone\u001b[39;49;00m),\n\u001b[1;32m   <a href='file:///Users/rosalierazonable/opt/miniconda3/envs/trafficAccident-env/lib/python3.9/site-packages/pandas/io/parsers/readers.py?line=1225'>1226</a>\u001b[0m )\n\u001b[1;32m   <a href='file:///Users/rosalierazonable/opt/miniconda3/envs/trafficAccident-env/lib/python3.9/site-packages/pandas/io/parsers/readers.py?line=1226'>1227</a>\u001b[0m \u001b[39massert\u001b[39;00m \u001b[39mself\u001b[39m\u001b[39m.\u001b[39mhandles \u001b[39mis\u001b[39;00m \u001b[39mnot\u001b[39;00m \u001b[39mNone\u001b[39;00m\n\u001b[1;32m   <a href='file:///Users/rosalierazonable/opt/miniconda3/envs/trafficAccident-env/lib/python3.9/site-packages/pandas/io/parsers/readers.py?line=1227'>1228</a>\u001b[0m f \u001b[39m=\u001b[39m \u001b[39mself\u001b[39m\u001b[39m.\u001b[39mhandles\u001b[39m.\u001b[39mhandle\n",
      "File \u001b[0;32m~/opt/miniconda3/envs/trafficAccident-env/lib/python3.9/site-packages/pandas/io/common.py:789\u001b[0m, in \u001b[0;36mget_handle\u001b[0;34m(path_or_buf, mode, encoding, compression, memory_map, is_text, errors, storage_options)\u001b[0m\n\u001b[1;32m    <a href='file:///Users/rosalierazonable/opt/miniconda3/envs/trafficAccident-env/lib/python3.9/site-packages/pandas/io/common.py?line=783'>784</a>\u001b[0m \u001b[39melif\u001b[39;00m \u001b[39misinstance\u001b[39m(handle, \u001b[39mstr\u001b[39m):\n\u001b[1;32m    <a href='file:///Users/rosalierazonable/opt/miniconda3/envs/trafficAccident-env/lib/python3.9/site-packages/pandas/io/common.py?line=784'>785</a>\u001b[0m     \u001b[39m# Check whether the filename is to be opened in binary mode.\u001b[39;00m\n\u001b[1;32m    <a href='file:///Users/rosalierazonable/opt/miniconda3/envs/trafficAccident-env/lib/python3.9/site-packages/pandas/io/common.py?line=785'>786</a>\u001b[0m     \u001b[39m# Binary mode does not support 'encoding' and 'newline'.\u001b[39;00m\n\u001b[1;32m    <a href='file:///Users/rosalierazonable/opt/miniconda3/envs/trafficAccident-env/lib/python3.9/site-packages/pandas/io/common.py?line=786'>787</a>\u001b[0m     \u001b[39mif\u001b[39;00m ioargs\u001b[39m.\u001b[39mencoding \u001b[39mand\u001b[39;00m \u001b[39m\"\u001b[39m\u001b[39mb\u001b[39m\u001b[39m\"\u001b[39m \u001b[39mnot\u001b[39;00m \u001b[39min\u001b[39;00m ioargs\u001b[39m.\u001b[39mmode:\n\u001b[1;32m    <a href='file:///Users/rosalierazonable/opt/miniconda3/envs/trafficAccident-env/lib/python3.9/site-packages/pandas/io/common.py?line=787'>788</a>\u001b[0m         \u001b[39m# Encoding\u001b[39;00m\n\u001b[0;32m--> <a href='file:///Users/rosalierazonable/opt/miniconda3/envs/trafficAccident-env/lib/python3.9/site-packages/pandas/io/common.py?line=788'>789</a>\u001b[0m         handle \u001b[39m=\u001b[39m \u001b[39mopen\u001b[39;49m(\n\u001b[1;32m    <a href='file:///Users/rosalierazonable/opt/miniconda3/envs/trafficAccident-env/lib/python3.9/site-packages/pandas/io/common.py?line=789'>790</a>\u001b[0m             handle,\n\u001b[1;32m    <a href='file:///Users/rosalierazonable/opt/miniconda3/envs/trafficAccident-env/lib/python3.9/site-packages/pandas/io/common.py?line=790'>791</a>\u001b[0m             ioargs\u001b[39m.\u001b[39;49mmode,\n\u001b[1;32m    <a href='file:///Users/rosalierazonable/opt/miniconda3/envs/trafficAccident-env/lib/python3.9/site-packages/pandas/io/common.py?line=791'>792</a>\u001b[0m             encoding\u001b[39m=\u001b[39;49mioargs\u001b[39m.\u001b[39;49mencoding,\n\u001b[1;32m    <a href='file:///Users/rosalierazonable/opt/miniconda3/envs/trafficAccident-env/lib/python3.9/site-packages/pandas/io/common.py?line=792'>793</a>\u001b[0m             errors\u001b[39m=\u001b[39;49merrors,\n\u001b[1;32m    <a href='file:///Users/rosalierazonable/opt/miniconda3/envs/trafficAccident-env/lib/python3.9/site-packages/pandas/io/common.py?line=793'>794</a>\u001b[0m             newline\u001b[39m=\u001b[39;49m\u001b[39m\"\u001b[39;49m\u001b[39m\"\u001b[39;49m,\n\u001b[1;32m    <a href='file:///Users/rosalierazonable/opt/miniconda3/envs/trafficAccident-env/lib/python3.9/site-packages/pandas/io/common.py?line=794'>795</a>\u001b[0m         )\n\u001b[1;32m    <a href='file:///Users/rosalierazonable/opt/miniconda3/envs/trafficAccident-env/lib/python3.9/site-packages/pandas/io/common.py?line=795'>796</a>\u001b[0m     \u001b[39melse\u001b[39;00m:\n\u001b[1;32m    <a href='file:///Users/rosalierazonable/opt/miniconda3/envs/trafficAccident-env/lib/python3.9/site-packages/pandas/io/common.py?line=796'>797</a>\u001b[0m         \u001b[39m# Binary mode\u001b[39;00m\n\u001b[1;32m    <a href='file:///Users/rosalierazonable/opt/miniconda3/envs/trafficAccident-env/lib/python3.9/site-packages/pandas/io/common.py?line=797'>798</a>\u001b[0m         handle \u001b[39m=\u001b[39m \u001b[39mopen\u001b[39m(handle, ioargs\u001b[39m.\u001b[39mmode)\n",
      "\u001b[0;31mFileNotFoundError\u001b[0m: [Errno 2] No such file or directory: '/dataset/US_Accidents_Dec21_updated.csv'"
     ]
    }
   ],
   "source": [
    "us_data = pd.read_csv(\"../dataset/US_Accidents_Dec21_updated.csv\")\n",
    "us_data"
   ]
  },
  {
   "cell_type": "code",
   "execution_count": null,
   "id": "4de019b8",
   "metadata": {},
   "outputs": [
    {
     "data": {
      "text/plain": [
       "Index(['ID', 'Severity', 'Start_Time', 'End_Time', 'Start_Lat', 'Start_Lng',\n",
       "       'End_Lat', 'End_Lng', 'Distance(mi)', 'Description', 'Number', 'Street',\n",
       "       'Side', 'City', 'County', 'State', 'Zipcode', 'Country', 'Timezone',\n",
       "       'Airport_Code', 'Weather_Timestamp', 'Temperature(F)', 'Wind_Chill(F)',\n",
       "       'Humidity(%)', 'Pressure(in)', 'Visibility(mi)', 'Wind_Direction',\n",
       "       'Wind_Speed(mph)', 'Precipitation(in)', 'Weather_Condition', 'Amenity',\n",
       "       'Bump', 'Crossing', 'Give_Way', 'Junction', 'No_Exit', 'Railway',\n",
       "       'Roundabout', 'Station', 'Stop', 'Traffic_Calming', 'Traffic_Signal',\n",
       "       'Turning_Loop', 'Sunrise_Sunset', 'Civil_Twilight', 'Nautical_Twilight',\n",
       "       'Astronomical_Twilight'],\n",
       "      dtype='object')"
      ]
     },
     "execution_count": 33,
     "metadata": {},
     "output_type": "execute_result"
    }
   ],
   "source": [
    "# Confirm available attributes or columns\n",
    "us_data.columns"
   ]
  },
  {
   "cell_type": "code",
   "execution_count": null,
   "id": "74a0e9f4",
   "metadata": {},
   "outputs": [
    {
     "data": {
      "text/plain": [
       "pandas.core.frame.DataFrame"
      ]
     },
     "execution_count": 14,
     "metadata": {},
     "output_type": "execute_result"
    }
   ],
   "source": [
    "type(us_data)"
   ]
  },
  {
   "cell_type": "code",
   "execution_count": null,
   "id": "543e2b46",
   "metadata": {},
   "outputs": [
    {
     "data": {
      "text/plain": [
       "CA    795868\n",
       "FL    401388\n",
       "TX    149037\n",
       "Name: State, dtype: int64"
      ]
     },
     "execution_count": 38,
     "metadata": {},
     "output_type": "execute_result"
    }
   ],
   "source": [
    "pd.Series(us_data[\"State\"]).value_counts().head(3)"
   ]
  },
  {
   "cell_type": "markdown",
   "id": "327ab7c5",
   "metadata": {},
   "source": [
    "## Determine how many Traffic Accident records are available in the Texas State"
   ]
  },
  {
   "cell_type": "code",
   "execution_count": null,
   "id": "a79ae4be",
   "metadata": {},
   "outputs": [
    {
     "data": {
      "text/plain": [
       "(149037, 47)"
      ]
     },
     "execution_count": 31,
     "metadata": {},
     "output_type": "execute_result"
    }
   ],
   "source": [
    "texas_data = us_data[us_data[\"State\"]==\"TX\"]\n",
    "texas_data.shape"
   ]
  },
  {
   "cell_type": "code",
   "execution_count": null,
   "id": "3413dab5",
   "metadata": {},
   "outputs": [
    {
     "data": {
      "text/html": [
       "<div>\n",
       "<style scoped>\n",
       "    .dataframe tbody tr th:only-of-type {\n",
       "        vertical-align: middle;\n",
       "    }\n",
       "\n",
       "    .dataframe tbody tr th {\n",
       "        vertical-align: top;\n",
       "    }\n",
       "\n",
       "    .dataframe thead th {\n",
       "        text-align: right;\n",
       "    }\n",
       "</style>\n",
       "<table border=\"1\" class=\"dataframe\">\n",
       "  <thead>\n",
       "    <tr style=\"text-align: right;\">\n",
       "      <th></th>\n",
       "      <th>ID</th>\n",
       "      <th>Severity</th>\n",
       "      <th>Start_Time</th>\n",
       "      <th>End_Time</th>\n",
       "      <th>Start_Lat</th>\n",
       "      <th>Start_Lng</th>\n",
       "      <th>End_Lat</th>\n",
       "      <th>End_Lng</th>\n",
       "      <th>Distance(mi)</th>\n",
       "      <th>Description</th>\n",
       "      <th>...</th>\n",
       "      <th>Roundabout</th>\n",
       "      <th>Station</th>\n",
       "      <th>Stop</th>\n",
       "      <th>Traffic_Calming</th>\n",
       "      <th>Traffic_Signal</th>\n",
       "      <th>Turning_Loop</th>\n",
       "      <th>Sunrise_Sunset</th>\n",
       "      <th>Civil_Twilight</th>\n",
       "      <th>Nautical_Twilight</th>\n",
       "      <th>Astronomical_Twilight</th>\n",
       "    </tr>\n",
       "  </thead>\n",
       "  <tbody>\n",
       "    <tr>\n",
       "      <th>11785</th>\n",
       "      <td>A-11786</td>\n",
       "      <td>2</td>\n",
       "      <td>2016-11-30 15:29:48</td>\n",
       "      <td>2016-11-30 21:29:48</td>\n",
       "      <td>32.84365</td>\n",
       "      <td>-96.77463</td>\n",
       "      <td>32.81833</td>\n",
       "      <td>-96.78806</td>\n",
       "      <td>1.915</td>\n",
       "      <td>Between Mockingbird Ln/Exit 3 and Knox St/Hend...</td>\n",
       "      <td>...</td>\n",
       "      <td>False</td>\n",
       "      <td>False</td>\n",
       "      <td>False</td>\n",
       "      <td>False</td>\n",
       "      <td>False</td>\n",
       "      <td>False</td>\n",
       "      <td>Day</td>\n",
       "      <td>Day</td>\n",
       "      <td>Day</td>\n",
       "      <td>Day</td>\n",
       "    </tr>\n",
       "    <tr>\n",
       "      <th>11786</th>\n",
       "      <td>A-11787</td>\n",
       "      <td>2</td>\n",
       "      <td>2016-11-30 15:41:16</td>\n",
       "      <td>2016-11-30 21:41:16</td>\n",
       "      <td>32.84662</td>\n",
       "      <td>-96.63736</td>\n",
       "      <td>32.84640</td>\n",
       "      <td>-96.63711</td>\n",
       "      <td>0.021</td>\n",
       "      <td>At La Prada Dr/Exit 9 - Accident.</td>\n",
       "      <td>...</td>\n",
       "      <td>False</td>\n",
       "      <td>False</td>\n",
       "      <td>False</td>\n",
       "      <td>False</td>\n",
       "      <td>False</td>\n",
       "      <td>False</td>\n",
       "      <td>Day</td>\n",
       "      <td>Day</td>\n",
       "      <td>Day</td>\n",
       "      <td>Day</td>\n",
       "    </tr>\n",
       "    <tr>\n",
       "      <th>11787</th>\n",
       "      <td>A-11788</td>\n",
       "      <td>3</td>\n",
       "      <td>2016-11-30 15:15:48</td>\n",
       "      <td>2016-11-30 21:15:48</td>\n",
       "      <td>32.86693</td>\n",
       "      <td>-96.66617</td>\n",
       "      <td>32.86156</td>\n",
       "      <td>-96.65769</td>\n",
       "      <td>0.616</td>\n",
       "      <td>At Northwest Hwy/Exit 11 - Accident.</td>\n",
       "      <td>...</td>\n",
       "      <td>False</td>\n",
       "      <td>False</td>\n",
       "      <td>False</td>\n",
       "      <td>False</td>\n",
       "      <td>False</td>\n",
       "      <td>False</td>\n",
       "      <td>Day</td>\n",
       "      <td>Day</td>\n",
       "      <td>Day</td>\n",
       "      <td>Day</td>\n",
       "    </tr>\n",
       "    <tr>\n",
       "      <th>11790</th>\n",
       "      <td>A-11791</td>\n",
       "      <td>2</td>\n",
       "      <td>2016-11-30 15:35:51</td>\n",
       "      <td>2016-11-30 21:35:51</td>\n",
       "      <td>32.79426</td>\n",
       "      <td>-97.21214</td>\n",
       "      <td>32.80106</td>\n",
       "      <td>-97.21195</td>\n",
       "      <td>0.470</td>\n",
       "      <td>At Trinity Blvd/Exit 25 - Accident.</td>\n",
       "      <td>...</td>\n",
       "      <td>False</td>\n",
       "      <td>False</td>\n",
       "      <td>False</td>\n",
       "      <td>False</td>\n",
       "      <td>False</td>\n",
       "      <td>False</td>\n",
       "      <td>Day</td>\n",
       "      <td>Day</td>\n",
       "      <td>Day</td>\n",
       "      <td>Day</td>\n",
       "    </tr>\n",
       "    <tr>\n",
       "      <th>11792</th>\n",
       "      <td>A-11793</td>\n",
       "      <td>2</td>\n",
       "      <td>2016-11-30 16:16:05</td>\n",
       "      <td>2016-11-30 22:16:05</td>\n",
       "      <td>32.81235</td>\n",
       "      <td>-97.31399</td>\n",
       "      <td>32.82511</td>\n",
       "      <td>-97.31258</td>\n",
       "      <td>0.885</td>\n",
       "      <td>At Meacham Blvd/Exit 56 - Accident.</td>\n",
       "      <td>...</td>\n",
       "      <td>False</td>\n",
       "      <td>False</td>\n",
       "      <td>False</td>\n",
       "      <td>False</td>\n",
       "      <td>False</td>\n",
       "      <td>False</td>\n",
       "      <td>Day</td>\n",
       "      <td>Day</td>\n",
       "      <td>Day</td>\n",
       "      <td>Day</td>\n",
       "    </tr>\n",
       "  </tbody>\n",
       "</table>\n",
       "<p>5 rows × 47 columns</p>\n",
       "</div>"
      ],
      "text/plain": [
       "            ID  Severity           Start_Time             End_Time  Start_Lat  \\\n",
       "11785  A-11786         2  2016-11-30 15:29:48  2016-11-30 21:29:48   32.84365   \n",
       "11786  A-11787         2  2016-11-30 15:41:16  2016-11-30 21:41:16   32.84662   \n",
       "11787  A-11788         3  2016-11-30 15:15:48  2016-11-30 21:15:48   32.86693   \n",
       "11790  A-11791         2  2016-11-30 15:35:51  2016-11-30 21:35:51   32.79426   \n",
       "11792  A-11793         2  2016-11-30 16:16:05  2016-11-30 22:16:05   32.81235   \n",
       "\n",
       "       Start_Lng   End_Lat   End_Lng  Distance(mi)  \\\n",
       "11785  -96.77463  32.81833 -96.78806         1.915   \n",
       "11786  -96.63736  32.84640 -96.63711         0.021   \n",
       "11787  -96.66617  32.86156 -96.65769         0.616   \n",
       "11790  -97.21214  32.80106 -97.21195         0.470   \n",
       "11792  -97.31399  32.82511 -97.31258         0.885   \n",
       "\n",
       "                                             Description  ...  Roundabout  \\\n",
       "11785  Between Mockingbird Ln/Exit 3 and Knox St/Hend...  ...       False   \n",
       "11786                  At La Prada Dr/Exit 9 - Accident.  ...       False   \n",
       "11787               At Northwest Hwy/Exit 11 - Accident.  ...       False   \n",
       "11790                At Trinity Blvd/Exit 25 - Accident.  ...       False   \n",
       "11792                At Meacham Blvd/Exit 56 - Accident.  ...       False   \n",
       "\n",
       "      Station   Stop Traffic_Calming Traffic_Signal Turning_Loop  \\\n",
       "11785   False  False           False          False        False   \n",
       "11786   False  False           False          False        False   \n",
       "11787   False  False           False          False        False   \n",
       "11790   False  False           False          False        False   \n",
       "11792   False  False           False          False        False   \n",
       "\n",
       "      Sunrise_Sunset Civil_Twilight Nautical_Twilight Astronomical_Twilight  \n",
       "11785            Day            Day               Day                   Day  \n",
       "11786            Day            Day               Day                   Day  \n",
       "11787            Day            Day               Day                   Day  \n",
       "11790            Day            Day               Day                   Day  \n",
       "11792            Day            Day               Day                   Day  \n",
       "\n",
       "[5 rows x 47 columns]"
      ]
     },
     "execution_count": 39,
     "metadata": {},
     "output_type": "execute_result"
    }
   ],
   "source": [
    "texas_data.head(5)"
   ]
  },
  {
   "cell_type": "markdown",
   "id": "19a4d0aa",
   "metadata": {},
   "source": [
    "## Checking Traffic Incidents in Dallas City"
   ]
  },
  {
   "cell_type": "code",
   "execution_count": null,
   "id": "5587b34c",
   "metadata": {},
   "outputs": [
    {
     "data": {
      "text/plain": [
       "Dallas         41615\n",
       "Houston        39366\n",
       "Austin         17928\n",
       "Fort Worth      7029\n",
       "San Antonio     6665\n",
       "               ...  \n",
       "Edinburg           1\n",
       "Tolar              1\n",
       "Prosper            1\n",
       "Olmito             1\n",
       "Ozona              1\n",
       "Name: City, Length: 532, dtype: int64"
      ]
     },
     "execution_count": 27,
     "metadata": {},
     "output_type": "execute_result"
    }
   ],
   "source": [
    "pd.Series(texas_data[\"City\"]).value_counts()"
   ]
  },
  {
   "cell_type": "markdown",
   "id": "7a117c56",
   "metadata": {},
   "source": [
    "## Checking Traffic Incidents in Dallas County"
   ]
  },
  {
   "cell_type": "code",
   "execution_count": null,
   "id": "c0f52151",
   "metadata": {
    "scrolled": true
   },
   "outputs": [
    {
     "data": {
      "text/plain": [
       "Dallas       49630\n",
       "Harris       42470\n",
       "Travis       20689\n",
       "Tarrant      11673\n",
       "Bexar         6927\n",
       "             ...  \n",
       "Haskell          1\n",
       "Lavaca           1\n",
       "Hockley          1\n",
       "Matagorda        1\n",
       "Crockett         1\n",
       "Name: County, Length: 171, dtype: int64"
      ]
     },
     "execution_count": 28,
     "metadata": {},
     "output_type": "execute_result"
    }
   ],
   "source": [
    "pd.Series(texas_data[\"County\"]).value_counts()"
   ]
  },
  {
   "cell_type": "markdown",
   "id": "511e2ced",
   "metadata": {},
   "source": [
    "\n",
    "## Confirm the available number of traffic accident records of Dallas City\n",
    "<hr>"
   ]
  },
  {
   "cell_type": "code",
   "execution_count": 6,
   "id": "b9fa2ead",
   "metadata": {},
   "outputs": [
    {
     "ename": "NameError",
     "evalue": "name 'texas_data' is not defined",
     "output_type": "error",
     "traceback": [
      "\u001b[0;31m---------------------------------------------------------------------------\u001b[0m",
      "\u001b[0;31mNameError\u001b[0m                                 Traceback (most recent call last)",
      "\u001b[1;32m/Users/rosalierazonable/Documents/SpecialProject/trafficAccidentAnalysis/notebooks/.ipynb_checkpoints/Data Exploration-checkpoint.ipynb Cell 16'\u001b[0m in \u001b[0;36m<cell line: 1>\u001b[0;34m()\u001b[0m\n\u001b[0;32m----> <a href='vscode-notebook-cell:/Users/rosalierazonable/Documents/SpecialProject/trafficAccidentAnalysis/notebooks/.ipynb_checkpoints/Data%20Exploration-checkpoint.ipynb#ch0000015?line=0'>1</a>\u001b[0m dallas_city_data \u001b[39m=\u001b[39m texas_data[texas_data[\u001b[39m\"\u001b[39m\u001b[39mCity\u001b[39m\u001b[39m\"\u001b[39m]\u001b[39m==\u001b[39m\u001b[39m\"\u001b[39m\u001b[39mDallas\u001b[39m\u001b[39m\"\u001b[39m]\n\u001b[1;32m      <a href='vscode-notebook-cell:/Users/rosalierazonable/Documents/SpecialProject/trafficAccidentAnalysis/notebooks/.ipynb_checkpoints/Data%20Exploration-checkpoint.ipynb#ch0000015?line=1'>2</a>\u001b[0m dallas_city_data\u001b[39m.\u001b[39mshape\n",
      "\u001b[0;31mNameError\u001b[0m: name 'texas_data' is not defined"
     ]
    }
   ],
   "source": [
    "dallas_city_data = texas_data[texas_data[\"City\"]==\"Dallas\"]\n",
    "dallas_city_data.shape"
   ]
  },
  {
   "cell_type": "markdown",
   "id": "b28d161d",
   "metadata": {},
   "source": [
    "\n",
    "## Confirm the available number of traffic accident records of Dallas County\n",
    "<hr>"
   ]
  },
  {
   "cell_type": "code",
   "execution_count": null,
   "id": "ad32662c",
   "metadata": {},
   "outputs": [
    {
     "data": {
      "text/plain": [
       "(49630, 47)"
      ]
     },
     "execution_count": 36,
     "metadata": {},
     "output_type": "execute_result"
    }
   ],
   "source": [
    "dallas_county_data = texas_data[texas_data[\"County\"]==\"Dallas\"]\n",
    "dallas_county_data.shape"
   ]
  },
  {
   "cell_type": "code",
   "execution_count": 5,
   "id": "b16a1c27",
   "metadata": {},
   "outputs": [
    {
     "ename": "NameError",
     "evalue": "name 'dallas_city_data' is not defined",
     "output_type": "error",
     "traceback": [
      "\u001b[0;31m---------------------------------------------------------------------------\u001b[0m",
      "\u001b[0;31mNameError\u001b[0m                                 Traceback (most recent call last)",
      "\u001b[1;32m/Users/rosalierazonable/Documents/SpecialProject/trafficAccidentAnalysis/notebooks/.ipynb_checkpoints/Data Exploration-checkpoint.ipynb Cell 19'\u001b[0m in \u001b[0;36m<cell line: 1>\u001b[0;34m()\u001b[0m\n\u001b[0;32m----> <a href='vscode-notebook-cell:/Users/rosalierazonable/Documents/SpecialProject/trafficAccidentAnalysis/notebooks/.ipynb_checkpoints/Data%20Exploration-checkpoint.ipynb#ch0000018?line=0'>1</a>\u001b[0m dallas_city_data\u001b[39m.\u001b[39mhist()\n",
      "\u001b[0;31mNameError\u001b[0m: name 'dallas_city_data' is not defined"
     ]
    }
   ],
   "source": [
    "dallas_city_data.hist()"
   ]
  },
  {
   "cell_type": "code",
   "execution_count": null,
   "id": "146229ad",
   "metadata": {},
   "outputs": [],
   "source": []
  }
 ],
 "metadata": {
  "interpreter": {
   "hash": "86b1d39971c69381ff6d710c6cf80c73e3c83f404bac2bc399f7a547832f0e69"
  },
  "kernelspec": {
   "display_name": "Python 3.9.7 ('python-env')",
   "language": "python",
   "name": "python3"
  },
  "language_info": {
   "codemirror_mode": {
    "name": "ipython",
    "version": 3
   },
   "file_extension": ".py",
   "mimetype": "text/x-python",
   "name": "python",
   "nbconvert_exporter": "python",
   "pygments_lexer": "ipython3",
   "version": "3.9.7"
  }
 },
 "nbformat": 4,
 "nbformat_minor": 5
}
