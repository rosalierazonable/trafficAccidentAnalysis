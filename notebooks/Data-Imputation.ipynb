{
 "cells": [
  {
   "cell_type": "code",
   "execution_count": 1,
   "id": "6a09bd69",
   "metadata": {},
   "outputs": [],
   "source": [
    "import pandas as pd \n",
    "import numpy as np\n",
    "\n",
    "import missingno as msno \n",
    "import miceforest as mf\n",
    "\n",
    "from dython.nominal import associations\n",
    "from dython.nominal import identify_nominal_columns\n",
    "from dython.data_utils import split_hist\n",
    "from dython.data_utils import identify_columns_with_na\n",
    "\n",
    "import matplotlib.pyplot as plt\n",
    "%matplotlib inline\n",
    "from matplotlib import style"
   ]
  },
  {
   "cell_type": "code",
   "execution_count": 2,
   "id": "c9b258ec",
   "metadata": {},
   "outputs": [],
   "source": [
    "#supress warnings\n",
    "import warnings\n",
    "warnings.filterwarnings(\"ignore\")\n",
    "\n",
    "# To Display all columns \n",
    "pd.set_option('display.max_columns', None)\n",
    "\n",
    "style.use(['science', 'notebook', 'grid'])"
   ]
  },
  {
   "cell_type": "code",
   "execution_count": 3,
   "id": "5bb07f57",
   "metadata": {},
   "outputs": [
    {
     "data": {
      "text/html": [
       "<div>\n",
       "<style scoped>\n",
       "    .dataframe tbody tr th:only-of-type {\n",
       "        vertical-align: middle;\n",
       "    }\n",
       "\n",
       "    .dataframe tbody tr th {\n",
       "        vertical-align: top;\n",
       "    }\n",
       "\n",
       "    .dataframe thead th {\n",
       "        text-align: right;\n",
       "    }\n",
       "</style>\n",
       "<table border=\"1\" class=\"dataframe\">\n",
       "  <thead>\n",
       "    <tr style=\"text-align: right;\">\n",
       "      <th></th>\n",
       "      <th>Unnamed: 0</th>\n",
       "      <th>Severity</th>\n",
       "      <th>Start_Time</th>\n",
       "      <th>End_Time</th>\n",
       "      <th>Duration</th>\n",
       "      <th>Start_Lat</th>\n",
       "      <th>Start_Lng</th>\n",
       "      <th>End_Lat</th>\n",
       "      <th>End_Lng</th>\n",
       "      <th>Distance(mi)</th>\n",
       "      <th>Street_Name</th>\n",
       "      <th>Street_Side</th>\n",
       "      <th>Zipcode</th>\n",
       "      <th>County</th>\n",
       "      <th>Airport_Code</th>\n",
       "      <th>Weather_Timestamp</th>\n",
       "      <th>Temperature(F)</th>\n",
       "      <th>Wind_Chill(F)</th>\n",
       "      <th>Humidity(%)</th>\n",
       "      <th>Pressure(in)</th>\n",
       "      <th>Visibility(mi)</th>\n",
       "      <th>Wind_Direction</th>\n",
       "      <th>Wind_Speed(mph)</th>\n",
       "      <th>Precipitation(in)</th>\n",
       "      <th>Weather_Condition</th>\n",
       "      <th>Amenity</th>\n",
       "      <th>Bump</th>\n",
       "      <th>Crossing</th>\n",
       "      <th>Give_Way</th>\n",
       "      <th>Junction</th>\n",
       "      <th>No_Exit</th>\n",
       "      <th>Railway</th>\n",
       "      <th>Roundabout</th>\n",
       "      <th>Station</th>\n",
       "      <th>Stop</th>\n",
       "      <th>Traffic_Calming</th>\n",
       "      <th>Traffic_Signal</th>\n",
       "      <th>Turning_Loop</th>\n",
       "      <th>Sunrise_Sunset</th>\n",
       "      <th>Civil_Twilight</th>\n",
       "      <th>Nautical_Twilight</th>\n",
       "      <th>Astronomical_Twilight</th>\n",
       "    </tr>\n",
       "  </thead>\n",
       "  <tbody>\n",
       "    <tr>\n",
       "      <th>0</th>\n",
       "      <td>0</td>\n",
       "      <td>2</td>\n",
       "      <td>2016-11-30 15:29:48</td>\n",
       "      <td>2016-11-30 21:29:48</td>\n",
       "      <td>06:00:00</td>\n",
       "      <td>32.84365</td>\n",
       "      <td>-96.77463</td>\n",
       "      <td>32.81833</td>\n",
       "      <td>-96.78806</td>\n",
       "      <td>1.915</td>\n",
       "      <td>US-75 S</td>\n",
       "      <td>R</td>\n",
       "      <td>75205</td>\n",
       "      <td>Dallas</td>\n",
       "      <td>KDAL</td>\n",
       "      <td>2016-11-30 15:53:00</td>\n",
       "      <td>61.0</td>\n",
       "      <td>NaN</td>\n",
       "      <td>22.0</td>\n",
       "      <td>30.01</td>\n",
       "      <td>10.0</td>\n",
       "      <td>NNW</td>\n",
       "      <td>4.6</td>\n",
       "      <td>NaN</td>\n",
       "      <td>Clear</td>\n",
       "      <td>False</td>\n",
       "      <td>False</td>\n",
       "      <td>False</td>\n",
       "      <td>False</td>\n",
       "      <td>True</td>\n",
       "      <td>False</td>\n",
       "      <td>False</td>\n",
       "      <td>False</td>\n",
       "      <td>False</td>\n",
       "      <td>False</td>\n",
       "      <td>False</td>\n",
       "      <td>False</td>\n",
       "      <td>False</td>\n",
       "      <td>Day</td>\n",
       "      <td>Day</td>\n",
       "      <td>Day</td>\n",
       "      <td>Day</td>\n",
       "    </tr>\n",
       "    <tr>\n",
       "      <th>1</th>\n",
       "      <td>1</td>\n",
       "      <td>2</td>\n",
       "      <td>2016-11-30 15:41:16</td>\n",
       "      <td>2016-11-30 21:41:16</td>\n",
       "      <td>06:00:00</td>\n",
       "      <td>32.84662</td>\n",
       "      <td>-96.63736</td>\n",
       "      <td>32.84640</td>\n",
       "      <td>-96.63711</td>\n",
       "      <td>0.021</td>\n",
       "      <td>I-635 S</td>\n",
       "      <td>R</td>\n",
       "      <td>75228</td>\n",
       "      <td>Dallas</td>\n",
       "      <td>KDAL</td>\n",
       "      <td>2016-11-30 15:53:00</td>\n",
       "      <td>61.0</td>\n",
       "      <td>NaN</td>\n",
       "      <td>22.0</td>\n",
       "      <td>30.01</td>\n",
       "      <td>10.0</td>\n",
       "      <td>NNW</td>\n",
       "      <td>4.6</td>\n",
       "      <td>NaN</td>\n",
       "      <td>Clear</td>\n",
       "      <td>False</td>\n",
       "      <td>False</td>\n",
       "      <td>False</td>\n",
       "      <td>False</td>\n",
       "      <td>False</td>\n",
       "      <td>False</td>\n",
       "      <td>False</td>\n",
       "      <td>False</td>\n",
       "      <td>False</td>\n",
       "      <td>False</td>\n",
       "      <td>False</td>\n",
       "      <td>False</td>\n",
       "      <td>False</td>\n",
       "      <td>Day</td>\n",
       "      <td>Day</td>\n",
       "      <td>Day</td>\n",
       "      <td>Day</td>\n",
       "    </tr>\n",
       "    <tr>\n",
       "      <th>2</th>\n",
       "      <td>2</td>\n",
       "      <td>3</td>\n",
       "      <td>2016-11-30 16:16:05</td>\n",
       "      <td>2016-11-30 22:16:05</td>\n",
       "      <td>06:00:00</td>\n",
       "      <td>32.79385</td>\n",
       "      <td>-96.70278</td>\n",
       "      <td>32.79498</td>\n",
       "      <td>-96.69424</td>\n",
       "      <td>0.502</td>\n",
       "      <td>R L Thornton Fwy E</td>\n",
       "      <td>R</td>\n",
       "      <td>75228</td>\n",
       "      <td>Dallas</td>\n",
       "      <td>KDAL</td>\n",
       "      <td>2016-11-30 15:53:00</td>\n",
       "      <td>61.0</td>\n",
       "      <td>NaN</td>\n",
       "      <td>22.0</td>\n",
       "      <td>30.01</td>\n",
       "      <td>10.0</td>\n",
       "      <td>NNW</td>\n",
       "      <td>4.6</td>\n",
       "      <td>NaN</td>\n",
       "      <td>Clear</td>\n",
       "      <td>False</td>\n",
       "      <td>False</td>\n",
       "      <td>False</td>\n",
       "      <td>False</td>\n",
       "      <td>True</td>\n",
       "      <td>False</td>\n",
       "      <td>False</td>\n",
       "      <td>False</td>\n",
       "      <td>False</td>\n",
       "      <td>False</td>\n",
       "      <td>False</td>\n",
       "      <td>False</td>\n",
       "      <td>False</td>\n",
       "      <td>Day</td>\n",
       "      <td>Day</td>\n",
       "      <td>Day</td>\n",
       "      <td>Day</td>\n",
       "    </tr>\n",
       "  </tbody>\n",
       "</table>\n",
       "</div>"
      ],
      "text/plain": [
       "   Unnamed: 0  Severity           Start_Time             End_Time  Duration  \\\n",
       "0           0         2  2016-11-30 15:29:48  2016-11-30 21:29:48  06:00:00   \n",
       "1           1         2  2016-11-30 15:41:16  2016-11-30 21:41:16  06:00:00   \n",
       "2           2         3  2016-11-30 16:16:05  2016-11-30 22:16:05  06:00:00   \n",
       "\n",
       "   Start_Lat  Start_Lng   End_Lat   End_Lng  Distance(mi)         Street_Name  \\\n",
       "0   32.84365  -96.77463  32.81833 -96.78806         1.915             US-75 S   \n",
       "1   32.84662  -96.63736  32.84640 -96.63711         0.021             I-635 S   \n",
       "2   32.79385  -96.70278  32.79498 -96.69424         0.502  R L Thornton Fwy E   \n",
       "\n",
       "  Street_Side Zipcode  County Airport_Code    Weather_Timestamp  \\\n",
       "0           R   75205  Dallas         KDAL  2016-11-30 15:53:00   \n",
       "1           R   75228  Dallas         KDAL  2016-11-30 15:53:00   \n",
       "2           R   75228  Dallas         KDAL  2016-11-30 15:53:00   \n",
       "\n",
       "   Temperature(F)  Wind_Chill(F)  Humidity(%)  Pressure(in)  Visibility(mi)  \\\n",
       "0            61.0            NaN         22.0         30.01            10.0   \n",
       "1            61.0            NaN         22.0         30.01            10.0   \n",
       "2            61.0            NaN         22.0         30.01            10.0   \n",
       "\n",
       "  Wind_Direction  Wind_Speed(mph)  Precipitation(in) Weather_Condition  \\\n",
       "0            NNW              4.6                NaN             Clear   \n",
       "1            NNW              4.6                NaN             Clear   \n",
       "2            NNW              4.6                NaN             Clear   \n",
       "\n",
       "   Amenity   Bump  Crossing  Give_Way  Junction  No_Exit  Railway  Roundabout  \\\n",
       "0    False  False     False     False      True    False    False       False   \n",
       "1    False  False     False     False     False    False    False       False   \n",
       "2    False  False     False     False      True    False    False       False   \n",
       "\n",
       "   Station   Stop  Traffic_Calming  Traffic_Signal  Turning_Loop  \\\n",
       "0    False  False            False           False         False   \n",
       "1    False  False            False           False         False   \n",
       "2    False  False            False           False         False   \n",
       "\n",
       "  Sunrise_Sunset Civil_Twilight Nautical_Twilight Astronomical_Twilight  \n",
       "0            Day            Day               Day                   Day  \n",
       "1            Day            Day               Day                   Day  \n",
       "2            Day            Day               Day                   Day  "
      ]
     },
     "execution_count": 3,
     "metadata": {},
     "output_type": "execute_result"
    }
   ],
   "source": [
    "dallas_city = pd.read_csv('../dataset/processed/dallas_cleaned.csv')\n",
    "dallas_city.head(3)"
   ]
  },
  {
   "cell_type": "code",
   "execution_count": 4,
   "id": "135b9210",
   "metadata": {},
   "outputs": [
    {
     "data": {
      "text/plain": [
       "Dallas     41021\n",
       "Collin       383\n",
       "Tarrant      130\n",
       "Denton        81\n",
       "Name: County, dtype: int64"
      ]
     },
     "execution_count": 4,
     "metadata": {},
     "output_type": "execute_result"
    }
   ],
   "source": [
    "dallas_city['County'].value_counts()"
   ]
  },
  {
   "cell_type": "code",
   "execution_count": 5,
   "id": "7405b9a6",
   "metadata": {},
   "outputs": [],
   "source": [
    "sub = dallas_city[dallas_city['County']=='Collin']\n",
    "# sub.head(3)"
   ]
  },
  {
   "cell_type": "code",
   "execution_count": 6,
   "id": "d922c8d3",
   "metadata": {},
   "outputs": [],
   "source": [
    "sub.rename(columns={'Number': 'Street_Number', \n",
    "                            'Street':'Street_Name', \n",
    "                            'Side': 'Street_Side'}, inplace=True)"
   ]
  },
  {
   "cell_type": "code",
   "execution_count": 7,
   "id": "1ddca1df",
   "metadata": {},
   "outputs": [
    {
     "ename": "KeyError",
     "evalue": "\"['City', 'State', 'Country', 'Timezone', 'Description'] not found in axis\"",
     "output_type": "error",
     "traceback": [
      "\u001b[0;31m---------------------------------------------------------------------------\u001b[0m",
      "\u001b[0;31mKeyError\u001b[0m                                  Traceback (most recent call last)",
      "Input \u001b[0;32mIn [7]\u001b[0m, in \u001b[0;36m<cell line: 1>\u001b[0;34m()\u001b[0m\n\u001b[0;32m----> 1\u001b[0m \u001b[43msub\u001b[49m\u001b[38;5;241;43m.\u001b[39;49m\u001b[43mdrop\u001b[49m\u001b[43m(\u001b[49m\u001b[43mcolumns\u001b[49m\u001b[38;5;241;43m=\u001b[39;49m\u001b[43m[\u001b[49m\u001b[38;5;124;43m'\u001b[39;49m\u001b[38;5;124;43mCity\u001b[39;49m\u001b[38;5;124;43m'\u001b[39;49m\u001b[43m,\u001b[49m\u001b[43m \u001b[49m\u001b[38;5;124;43m'\u001b[39;49m\u001b[38;5;124;43mState\u001b[39;49m\u001b[38;5;124;43m'\u001b[39;49m\u001b[43m,\u001b[49m\u001b[43m \u001b[49m\u001b[38;5;124;43m'\u001b[39;49m\u001b[38;5;124;43mCountry\u001b[39;49m\u001b[38;5;124;43m'\u001b[39;49m\u001b[43m,\u001b[49m\u001b[43m \u001b[49m\u001b[38;5;124;43m'\u001b[39;49m\u001b[38;5;124;43mTimezone\u001b[39;49m\u001b[38;5;124;43m'\u001b[39;49m\u001b[43m,\u001b[49m\u001b[43m \u001b[49m\u001b[38;5;124;43m'\u001b[39;49m\u001b[38;5;124;43mDescription\u001b[39;49m\u001b[38;5;124;43m'\u001b[39;49m\u001b[43m \u001b[49m\u001b[43m]\u001b[49m\u001b[43m,\u001b[49m\u001b[43m \u001b[49m\u001b[43minplace\u001b[49m\u001b[38;5;241;43m=\u001b[39;49m\u001b[38;5;28;43;01mTrue\u001b[39;49;00m\u001b[43m)\u001b[49m\n",
      "File \u001b[0;32m~/opt/miniconda3/envs/trafficAccident-env/lib/python3.9/site-packages/pandas/util/_decorators.py:311\u001b[0m, in \u001b[0;36mdeprecate_nonkeyword_arguments.<locals>.decorate.<locals>.wrapper\u001b[0;34m(*args, **kwargs)\u001b[0m\n\u001b[1;32m    305\u001b[0m \u001b[38;5;28;01mif\u001b[39;00m \u001b[38;5;28mlen\u001b[39m(args) \u001b[38;5;241m>\u001b[39m num_allow_args:\n\u001b[1;32m    306\u001b[0m     warnings\u001b[38;5;241m.\u001b[39mwarn(\n\u001b[1;32m    307\u001b[0m         msg\u001b[38;5;241m.\u001b[39mformat(arguments\u001b[38;5;241m=\u001b[39marguments),\n\u001b[1;32m    308\u001b[0m         \u001b[38;5;167;01mFutureWarning\u001b[39;00m,\n\u001b[1;32m    309\u001b[0m         stacklevel\u001b[38;5;241m=\u001b[39mstacklevel,\n\u001b[1;32m    310\u001b[0m     )\n\u001b[0;32m--> 311\u001b[0m \u001b[38;5;28;01mreturn\u001b[39;00m \u001b[43mfunc\u001b[49m\u001b[43m(\u001b[49m\u001b[38;5;241;43m*\u001b[39;49m\u001b[43margs\u001b[49m\u001b[43m,\u001b[49m\u001b[43m \u001b[49m\u001b[38;5;241;43m*\u001b[39;49m\u001b[38;5;241;43m*\u001b[39;49m\u001b[43mkwargs\u001b[49m\u001b[43m)\u001b[49m\n",
      "File \u001b[0;32m~/opt/miniconda3/envs/trafficAccident-env/lib/python3.9/site-packages/pandas/core/frame.py:4948\u001b[0m, in \u001b[0;36mDataFrame.drop\u001b[0;34m(self, labels, axis, index, columns, level, inplace, errors)\u001b[0m\n\u001b[1;32m   4800\u001b[0m \u001b[38;5;129m@deprecate_nonkeyword_arguments\u001b[39m(version\u001b[38;5;241m=\u001b[39m\u001b[38;5;28;01mNone\u001b[39;00m, allowed_args\u001b[38;5;241m=\u001b[39m[\u001b[38;5;124m\"\u001b[39m\u001b[38;5;124mself\u001b[39m\u001b[38;5;124m\"\u001b[39m, \u001b[38;5;124m\"\u001b[39m\u001b[38;5;124mlabels\u001b[39m\u001b[38;5;124m\"\u001b[39m])\n\u001b[1;32m   4801\u001b[0m \u001b[38;5;28;01mdef\u001b[39;00m \u001b[38;5;21mdrop\u001b[39m(\n\u001b[1;32m   4802\u001b[0m     \u001b[38;5;28mself\u001b[39m,\n\u001b[0;32m   (...)\u001b[0m\n\u001b[1;32m   4809\u001b[0m     errors: \u001b[38;5;28mstr\u001b[39m \u001b[38;5;241m=\u001b[39m \u001b[38;5;124m\"\u001b[39m\u001b[38;5;124mraise\u001b[39m\u001b[38;5;124m\"\u001b[39m,\n\u001b[1;32m   4810\u001b[0m ):\n\u001b[1;32m   4811\u001b[0m     \u001b[38;5;124;03m\"\"\"\u001b[39;00m\n\u001b[1;32m   4812\u001b[0m \u001b[38;5;124;03m    Drop specified labels from rows or columns.\u001b[39;00m\n\u001b[1;32m   4813\u001b[0m \n\u001b[0;32m   (...)\u001b[0m\n\u001b[1;32m   4946\u001b[0m \u001b[38;5;124;03m            weight  1.0     0.8\u001b[39;00m\n\u001b[1;32m   4947\u001b[0m \u001b[38;5;124;03m    \"\"\"\u001b[39;00m\n\u001b[0;32m-> 4948\u001b[0m     \u001b[38;5;28;01mreturn\u001b[39;00m \u001b[38;5;28;43msuper\u001b[39;49m\u001b[43m(\u001b[49m\u001b[43m)\u001b[49m\u001b[38;5;241;43m.\u001b[39;49m\u001b[43mdrop\u001b[49m\u001b[43m(\u001b[49m\n\u001b[1;32m   4949\u001b[0m \u001b[43m        \u001b[49m\u001b[43mlabels\u001b[49m\u001b[38;5;241;43m=\u001b[39;49m\u001b[43mlabels\u001b[49m\u001b[43m,\u001b[49m\n\u001b[1;32m   4950\u001b[0m \u001b[43m        \u001b[49m\u001b[43maxis\u001b[49m\u001b[38;5;241;43m=\u001b[39;49m\u001b[43maxis\u001b[49m\u001b[43m,\u001b[49m\n\u001b[1;32m   4951\u001b[0m \u001b[43m        \u001b[49m\u001b[43mindex\u001b[49m\u001b[38;5;241;43m=\u001b[39;49m\u001b[43mindex\u001b[49m\u001b[43m,\u001b[49m\n\u001b[1;32m   4952\u001b[0m \u001b[43m        \u001b[49m\u001b[43mcolumns\u001b[49m\u001b[38;5;241;43m=\u001b[39;49m\u001b[43mcolumns\u001b[49m\u001b[43m,\u001b[49m\n\u001b[1;32m   4953\u001b[0m \u001b[43m        \u001b[49m\u001b[43mlevel\u001b[49m\u001b[38;5;241;43m=\u001b[39;49m\u001b[43mlevel\u001b[49m\u001b[43m,\u001b[49m\n\u001b[1;32m   4954\u001b[0m \u001b[43m        \u001b[49m\u001b[43minplace\u001b[49m\u001b[38;5;241;43m=\u001b[39;49m\u001b[43minplace\u001b[49m\u001b[43m,\u001b[49m\n\u001b[1;32m   4955\u001b[0m \u001b[43m        \u001b[49m\u001b[43merrors\u001b[49m\u001b[38;5;241;43m=\u001b[39;49m\u001b[43merrors\u001b[49m\u001b[43m,\u001b[49m\n\u001b[1;32m   4956\u001b[0m \u001b[43m    \u001b[49m\u001b[43m)\u001b[49m\n",
      "File \u001b[0;32m~/opt/miniconda3/envs/trafficAccident-env/lib/python3.9/site-packages/pandas/core/generic.py:4279\u001b[0m, in \u001b[0;36mNDFrame.drop\u001b[0;34m(self, labels, axis, index, columns, level, inplace, errors)\u001b[0m\n\u001b[1;32m   4277\u001b[0m \u001b[38;5;28;01mfor\u001b[39;00m axis, labels \u001b[38;5;129;01min\u001b[39;00m axes\u001b[38;5;241m.\u001b[39mitems():\n\u001b[1;32m   4278\u001b[0m     \u001b[38;5;28;01mif\u001b[39;00m labels \u001b[38;5;129;01mis\u001b[39;00m \u001b[38;5;129;01mnot\u001b[39;00m \u001b[38;5;28;01mNone\u001b[39;00m:\n\u001b[0;32m-> 4279\u001b[0m         obj \u001b[38;5;241m=\u001b[39m \u001b[43mobj\u001b[49m\u001b[38;5;241;43m.\u001b[39;49m\u001b[43m_drop_axis\u001b[49m\u001b[43m(\u001b[49m\u001b[43mlabels\u001b[49m\u001b[43m,\u001b[49m\u001b[43m \u001b[49m\u001b[43maxis\u001b[49m\u001b[43m,\u001b[49m\u001b[43m \u001b[49m\u001b[43mlevel\u001b[49m\u001b[38;5;241;43m=\u001b[39;49m\u001b[43mlevel\u001b[49m\u001b[43m,\u001b[49m\u001b[43m \u001b[49m\u001b[43merrors\u001b[49m\u001b[38;5;241;43m=\u001b[39;49m\u001b[43merrors\u001b[49m\u001b[43m)\u001b[49m\n\u001b[1;32m   4281\u001b[0m \u001b[38;5;28;01mif\u001b[39;00m inplace:\n\u001b[1;32m   4282\u001b[0m     \u001b[38;5;28mself\u001b[39m\u001b[38;5;241m.\u001b[39m_update_inplace(obj)\n",
      "File \u001b[0;32m~/opt/miniconda3/envs/trafficAccident-env/lib/python3.9/site-packages/pandas/core/generic.py:4323\u001b[0m, in \u001b[0;36mNDFrame._drop_axis\u001b[0;34m(self, labels, axis, level, errors, consolidate, only_slice)\u001b[0m\n\u001b[1;32m   4321\u001b[0m         new_axis \u001b[38;5;241m=\u001b[39m axis\u001b[38;5;241m.\u001b[39mdrop(labels, level\u001b[38;5;241m=\u001b[39mlevel, errors\u001b[38;5;241m=\u001b[39merrors)\n\u001b[1;32m   4322\u001b[0m     \u001b[38;5;28;01melse\u001b[39;00m:\n\u001b[0;32m-> 4323\u001b[0m         new_axis \u001b[38;5;241m=\u001b[39m \u001b[43maxis\u001b[49m\u001b[38;5;241;43m.\u001b[39;49m\u001b[43mdrop\u001b[49m\u001b[43m(\u001b[49m\u001b[43mlabels\u001b[49m\u001b[43m,\u001b[49m\u001b[43m \u001b[49m\u001b[43merrors\u001b[49m\u001b[38;5;241;43m=\u001b[39;49m\u001b[43merrors\u001b[49m\u001b[43m)\u001b[49m\n\u001b[1;32m   4324\u001b[0m     indexer \u001b[38;5;241m=\u001b[39m axis\u001b[38;5;241m.\u001b[39mget_indexer(new_axis)\n\u001b[1;32m   4326\u001b[0m \u001b[38;5;66;03m# Case for non-unique axis\u001b[39;00m\n\u001b[1;32m   4327\u001b[0m \u001b[38;5;28;01melse\u001b[39;00m:\n",
      "File \u001b[0;32m~/opt/miniconda3/envs/trafficAccident-env/lib/python3.9/site-packages/pandas/core/indexes/base.py:6644\u001b[0m, in \u001b[0;36mIndex.drop\u001b[0;34m(self, labels, errors)\u001b[0m\n\u001b[1;32m   6642\u001b[0m \u001b[38;5;28;01mif\u001b[39;00m mask\u001b[38;5;241m.\u001b[39many():\n\u001b[1;32m   6643\u001b[0m     \u001b[38;5;28;01mif\u001b[39;00m errors \u001b[38;5;241m!=\u001b[39m \u001b[38;5;124m\"\u001b[39m\u001b[38;5;124mignore\u001b[39m\u001b[38;5;124m\"\u001b[39m:\n\u001b[0;32m-> 6644\u001b[0m         \u001b[38;5;28;01mraise\u001b[39;00m \u001b[38;5;167;01mKeyError\u001b[39;00m(\u001b[38;5;124mf\u001b[39m\u001b[38;5;124m\"\u001b[39m\u001b[38;5;132;01m{\u001b[39;00m\u001b[38;5;28mlist\u001b[39m(labels[mask])\u001b[38;5;132;01m}\u001b[39;00m\u001b[38;5;124m not found in axis\u001b[39m\u001b[38;5;124m\"\u001b[39m)\n\u001b[1;32m   6645\u001b[0m     indexer \u001b[38;5;241m=\u001b[39m indexer[\u001b[38;5;241m~\u001b[39mmask]\n\u001b[1;32m   6646\u001b[0m \u001b[38;5;28;01mreturn\u001b[39;00m \u001b[38;5;28mself\u001b[39m\u001b[38;5;241m.\u001b[39mdelete(indexer)\n",
      "\u001b[0;31mKeyError\u001b[0m: \"['City', 'State', 'Country', 'Timezone', 'Description'] not found in axis\""
     ]
    }
   ],
   "source": [
    "sub.drop(columns=['City', 'State', 'Country', 'Timezone', 'Description' ], inplace=True)"
   ]
  },
  {
   "cell_type": "code",
   "execution_count": null,
   "id": "5b98be7a",
   "metadata": {},
   "outputs": [],
   "source": [
    "categorical_features=identify_nominal_columns(sub)\n",
    "categorical_features"
   ]
  },
  {
   "cell_type": "code",
   "execution_count": null,
   "id": "9c189011",
   "metadata": {},
   "outputs": [],
   "source": [
    "# split_hist(sub, 'Street_Name', split_by='Severity', bins=20, figsize=(20,7))"
   ]
  },
  {
   "cell_type": "code",
   "execution_count": null,
   "id": "28ca2df6",
   "metadata": {},
   "outputs": [],
   "source": [
    "complete_correlation= associations(sub, filename='complete_correlation.jpeg', figsize=(30,10))"
   ]
  },
  {
   "cell_type": "code",
   "execution_count": null,
   "id": "609414a0",
   "metadata": {},
   "outputs": [],
   "source": [
    "df_complete_corr=complete_correlation['corr']\n",
    "df_complete_corr.dropna(axis=1, how='all').dropna(axis=0, how='all').style.background_gradient(cmap='coolwarm', axis=None).set_precision(2)"
   ]
  },
  {
   "cell_type": "code",
   "execution_count": null,
   "id": "4a7bc0c6",
   "metadata": {},
   "outputs": [],
   "source": [
    "selected_column= sub[categorical_features]\n",
    "categorical_df = selected_column.copy()"
   ]
  },
  {
   "cell_type": "code",
   "execution_count": null,
   "id": "b13aedd5",
   "metadata": {},
   "outputs": [],
   "source": [
    "categorical_correlation= associations(categorical_df, filename= 'categorical_correlation.jpeg', figsize=(20,10))"
   ]
  },
  {
   "cell_type": "markdown",
   "id": "2e26ef0a",
   "metadata": {},
   "source": [
    "## Visualizing Missing Values"
   ]
  },
  {
   "cell_type": "code",
   "execution_count": null,
   "id": "caca6d16",
   "metadata": {},
   "outputs": [],
   "source": [
    "identify_columns_with_na(sub)"
   ]
  },
  {
   "cell_type": "code",
   "execution_count": null,
   "id": "4773d066",
   "metadata": {},
   "outputs": [],
   "source": []
  },
  {
   "cell_type": "code",
   "execution_count": null,
   "id": "5b899b46",
   "metadata": {},
   "outputs": [],
   "source": [
    "sub.shape"
   ]
  },
  {
   "cell_type": "code",
   "execution_count": null,
   "id": "b08a165a",
   "metadata": {},
   "outputs": [],
   "source": [
    "msno.bar(sub)"
   ]
  },
  {
   "cell_type": "code",
   "execution_count": null,
   "id": "2abb89bf",
   "metadata": {},
   "outputs": [],
   "source": [
    "msno.matrix(sub)"
   ]
  },
  {
   "cell_type": "code",
   "execution_count": null,
   "id": "cc32277d",
   "metadata": {},
   "outputs": [],
   "source": [
    "msno.heatmap(sub)"
   ]
  },
  {
   "cell_type": "code",
   "execution_count": null,
   "id": "e83c30c3",
   "metadata": {},
   "outputs": [],
   "source": [
    "msno.dendrogram(sub)"
   ]
  },
  {
   "cell_type": "code",
   "execution_count": null,
   "id": "bc0a1275",
   "metadata": {},
   "outputs": [],
   "source": [
    "sub.drop(columns=['Street_Number'], inplace=True)"
   ]
  },
  {
   "cell_type": "code",
   "execution_count": null,
   "id": "24ba4bbe",
   "metadata": {},
   "outputs": [],
   "source": [
    "sub.to_csv('../dataset/processed/subset.csv')"
   ]
  },
  {
   "cell_type": "code",
   "execution_count": null,
   "id": "fb204c0f",
   "metadata": {},
   "outputs": [],
   "source": [
    "flag = ((sub['Wind_Chill(F)'].isna()==True) & (sub['Precipitation(in)'].isna()==True))\n",
    "\n",
    "sub[flag][['Wind_Chill(F)', 'Precipitation(in)']].head(10)"
   ]
  },
  {
   "cell_type": "code",
   "execution_count": null,
   "id": "e910f7a0",
   "metadata": {},
   "outputs": [],
   "source": [
    "sub.shape"
   ]
  },
  {
   "cell_type": "code",
   "execution_count": null,
   "id": "44cb5433",
   "metadata": {},
   "outputs": [],
   "source": [
    "df = sub[['Start_Time', 'End_Time', 'Weather_Timestamp', 'Street_Name']]\n",
    "df"
   ]
  },
  {
   "cell_type": "code",
   "execution_count": null,
   "id": "8f6e54f6",
   "metadata": {},
   "outputs": [],
   "source": [
    "sub.drop(columns=['Start_Time', 'End_Time', 'Weather_Timestamp', 'Street_Name'], inplace=True)"
   ]
  },
  {
   "cell_type": "code",
   "execution_count": null,
   "id": "d77afe1c",
   "metadata": {},
   "outputs": [],
   "source": [
    "sub.shape"
   ]
  },
  {
   "cell_type": "code",
   "execution_count": null,
   "id": "b12b3b58",
   "metadata": {},
   "outputs": [],
   "source": [
    "#Convert to Categorical Data \n",
    "\n",
    "categorical_data = sub.columns[sub.dtypes == \"object\"].tolist()\n",
    "data = sub[categorical_data].apply(pd.Categorical)\n",
    "sub[categorical_data] = data\n",
    "sub.shape"
   ]
  },
  {
   "cell_type": "code",
   "execution_count": null,
   "id": "fb8f969f",
   "metadata": {},
   "outputs": [],
   "source": [
    "# imp = MiceImputer()\n",
    "# imp.fit_transform(sub)"
   ]
  },
  {
   "cell_type": "code",
   "execution_count": null,
   "id": "0f1c1183",
   "metadata": {},
   "outputs": [],
   "source": [
    "kds = mf.ImputationKernel(\n",
    "    sub,\n",
    "    datasets=5,\n",
    "    save_all_iterations=True,\n",
    "    random_state=11\n",
    ")\n",
    "\n",
    "kds.mice(4)"
   ]
  },
  {
   "cell_type": "code",
   "execution_count": null,
   "id": "9e5fbcf7",
   "metadata": {},
   "outputs": [],
   "source": [
    "kernel = mf.ImputationKernel(\n",
    "    sub,\n",
    "    datasets=5,\n",
    "    mean_match_candidates=5,\n",
    "    save_all_iterations=True,\n",
    "    random_state=11\n",
    ")\n",
    "\n",
    "kernel.mice(4)"
   ]
  },
  {
   "cell_type": "code",
   "execution_count": null,
   "id": "d1e505b8",
   "metadata": {},
   "outputs": [],
   "source": [
    "print(kds)"
   ]
  },
  {
   "cell_type": "code",
   "execution_count": null,
   "id": "d0579399",
   "metadata": {},
   "outputs": [],
   "source": [
    " completed_dataset = kds.complete_data(dataset=0, inplace=False)\n",
    "print(completed_dataset.isnull().sum(0))"
   ]
  },
  {
   "cell_type": "code",
   "execution_count": null,
   "id": "26ef6305",
   "metadata": {},
   "outputs": [],
   "source": [
    "# obtain our completed dataset directly from the kernel\n",
    "# kds.complete_data(dataset=0, inplace=True)\n",
    "# print(kds.working_data.isnull().sum(0))"
   ]
  },
  {
   "cell_type": "code",
   "execution_count": null,
   "id": "c32c08fa",
   "metadata": {},
   "outputs": [],
   "source": [
    "completed_dataset.shape"
   ]
  },
  {
   "cell_type": "code",
   "execution_count": null,
   "id": "5c03e98e",
   "metadata": {},
   "outputs": [],
   "source": [
    "kds.plot_mean_convergence(wspace=0.75,hspace=0.75)"
   ]
  },
  {
   "cell_type": "code",
   "execution_count": null,
   "id": "a3de9e19",
   "metadata": {},
   "outputs": [],
   "source": [
    "kernel.plot_mean_convergence(wspace=0.75,hspace=0.75)"
   ]
  },
  {
   "cell_type": "code",
   "execution_count": null,
   "id": "e331078d",
   "metadata": {},
   "outputs": [],
   "source": [
    "# The red line is the original data, and each black line are the imputed values of each dataset.\n",
    "kds.plot_imputed_distributions(wspace=1,hspace=1)"
   ]
  },
  {
   "cell_type": "code",
   "execution_count": null,
   "id": "de2f218a",
   "metadata": {},
   "outputs": [],
   "source": [
    "# The red line is the original data, and each black line are the imputed values of each dataset.\n",
    "kernel.plot_imputed_distributions(wspace=1,hspace=1)"
   ]
  },
  {
   "cell_type": "code",
   "execution_count": null,
   "id": "a9a4f315",
   "metadata": {},
   "outputs": [],
   "source": [
    "kds.plot_correlations(wspace=1,hspace=1)"
   ]
  },
  {
   "cell_type": "code",
   "execution_count": null,
   "id": "7f08d244",
   "metadata": {},
   "outputs": [],
   "source": [
    "# kds.plot_feature_importance(dataset=0,cmap=\"YlGnBu\",vmin=0, vmax=1 )"
   ]
  },
  {
   "cell_type": "code",
   "execution_count": null,
   "id": "770a657a",
   "metadata": {},
   "outputs": [],
   "source": [
    "imputed_data = pd.concat([kds.complete_data(i) for i in range(5)]).groupby(level=0).mean()\n",
    "imputed_data.shape"
   ]
  },
  {
   "cell_type": "code",
   "execution_count": null,
   "id": "ca4c95c8",
   "metadata": {},
   "outputs": [],
   "source": [
    "imputed = pd.merge(df, imputed_data, left_index=True, right_index=True)\n",
    "imputed.shape"
   ]
  },
  {
   "cell_type": "code",
   "execution_count": null,
   "id": "864d93c0",
   "metadata": {},
   "outputs": [],
   "source": [
    "imputed.shape"
   ]
  },
  {
   "cell_type": "code",
   "execution_count": null,
   "id": "879bba18",
   "metadata": {},
   "outputs": [],
   "source": [
    "complete_correlation= associations(imputed, filename='complete_correlation.jpeg', figsize=(30,10))"
   ]
  },
  {
   "cell_type": "code",
   "execution_count": null,
   "id": "6f36c7b3",
   "metadata": {},
   "outputs": [],
   "source": [
    "df_complete_corr=complete_correlation['corr']\n",
    "df_complete_corr.dropna(axis=1, how='all').dropna(axis=0, how='all').style.background_gradient(cmap='coolwarm', axis=None).set_precision(2)"
   ]
  },
  {
   "cell_type": "code",
   "execution_count": null,
   "id": "753e7e22",
   "metadata": {},
   "outputs": [],
   "source": []
  },
  {
   "cell_type": "code",
   "execution_count": null,
   "id": "5ed93ff5",
   "metadata": {},
   "outputs": [],
   "source": []
  }
 ],
 "metadata": {
  "kernelspec": {
   "display_name": "Python 3 (ipykernel)",
   "language": "python",
   "name": "python3"
  },
  "language_info": {
   "codemirror_mode": {
    "name": "ipython",
    "version": 3
   },
   "file_extension": ".py",
   "mimetype": "text/x-python",
   "name": "python",
   "nbconvert_exporter": "python",
   "pygments_lexer": "ipython3",
   "version": "3.9.12"
  }
 },
 "nbformat": 4,
 "nbformat_minor": 5
}
